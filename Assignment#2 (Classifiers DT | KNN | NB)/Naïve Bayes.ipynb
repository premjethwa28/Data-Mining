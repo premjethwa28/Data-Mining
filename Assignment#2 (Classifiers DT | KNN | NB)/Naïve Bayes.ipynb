{
 "cells": [
  {
   "cell_type": "markdown",
   "metadata": {},
   "source": [
    "# Assignment 2\n",
    "## Naive Bayes Classifier"
   ]
  },
  {
   "attachments": {},
   "cell_type": "markdown",
   "metadata": {},
   "source": [
    "## Student Details (1 Point)\n",
    "Notes: When submitting, fill your name and ID in this cell.  [1 point]\n",
    "\n",
    "Lavanya Srinivasan - 1002040671 <br>\n",
    "Prem Atul Jethwa - 1001861810 <br>\n",
    "Shubham Sharma - 1001964524 <br>\n",
    "\n",
    "Make sure to write about any 4-5 line to explain any kind of visualization\n",
    "\n",
    "Do not to forget to cite any external sources used by you.\n",
    "\n",
    "Student Who worked on Naive Bayes Classifier: Lavanya Srinivasan - 1002040671"
   ]
  },
  {
   "cell_type": "markdown",
   "metadata": {},
   "source": [
    "# Remeber to cite any external sources here"
   ]
  },
  {
   "attachments": {},
   "cell_type": "markdown",
   "metadata": {},
   "source": [
    "# Naive Bayes-\n",
    "\n",
    "## Programming Assignment Details-\n",
    "\n",
    "## Preprocessing-\n",
    "You have textual data that you cannot feed into the model. Therefore, you need to extract features from the text (email) and transform the data. There are techniques to do so, such as Bag of Words, n-grams, Tf-Idf, Word2Vec, CountVectorizer, and many others.\n",
    "\n",
    "## The Model-\n",
    "Test train split, using 80% for training, rest for testing. Next you will need to train NB model(Gausian) for classification.\n",
    "\n",
    "Create the model using training data, predict on the test data, and get the accuracy, plot the confusion matrix.\n",
    "\n",
    "## Metrics to report- \n",
    "You will need to report-\n",
    "1. Accuracy Score(metrics.accuracy_score)\n",
    "2. Confusion Matrix(metrics.confusion_matrix) plotted graphically(It needs to be in the final jupyter file which you submit)\n",
    "\n",
    "## Answer the following questions-\n",
    "Do not include too much information, it has to be consise. Just your student ids, and the necessary info.\n",
    "1. Briefly explain your approach, any preprocessing, explain the output, any visualisation for explanation, in same jupyter file. (3-4 paragraphs max)\n",
    "\n",
    "## Grading-\n",
    "1. (30 pts) Loading and preprocessing of the data.\n",
    "2. (30 pts) Creation of correct model(NB), with decent metrics, plotting confusion matrix.\n",
    "3. (30 pts) Explaining the approach, also explain the(if any) preprocessor which you used.\n",
    "4. (7 pts) Neatly presented code, with comments, correctly named files, complete report section, and followed the UTA code of conduct.\n",
    "\n",
    "## Programming Assignment Submission Instructions (2 Points)\n",
    "Each file should be submitted separately, do not compress them, only one student submits.\n",
    "\n",
    "Format of file naming:\n",
    "\n",
    "NB-\n",
    "'yourLastName_Last4digitsofyourID_NB.ipynb' (Report in markdown cells and code in code cells of Notebook preferred)\n",
    "\n",
    "## What to submit-\n",
    "1. Jupyter files(.ipynb)"
   ]
  },
  {
   "attachments": {},
   "cell_type": "markdown",
   "metadata": {},
   "source": [
    "## Importing necessary libraries"
   ]
  },
  {
   "cell_type": "code",
   "execution_count": 2,
   "metadata": {},
   "outputs": [
    {
     "name": "stderr",
     "output_type": "stream",
     "text": [
      "[nltk_data] Downloading package stopwords to\n",
      "[nltk_data]     C:\\Users\\saala\\AppData\\Roaming\\nltk_data...\n",
      "[nltk_data]   Package stopwords is already up-to-date!\n"
     ]
    }
   ],
   "source": [
    "# Required libraries are listed below\n",
    "import pandas as pd\n",
    "from sklearn.model_selection import train_test_split\n",
    "from sklearn.feature_extraction.text import CountVectorizer\n",
    "from nltk.tokenize import word_tokenize\n",
    "from sklearn.naive_bayes import GaussianNB # Naive Bayes - Gaussian Classifier\n",
    "from sklearn.metrics import accuracy_score, confusion_matrix\n",
    "import seaborn as sns  # statistical data visualization\n",
    "import textfeatures as tf"
   ]
  },
  {
   "attachments": {},
   "cell_type": "markdown",
   "metadata": {},
   "source": [
    "## Load the CSV file into a Pandas DataFrame"
   ]
  },
  {
   "cell_type": "code",
   "execution_count": 3,
   "metadata": {},
   "outputs": [
    {
     "data": {
      "text/html": [
       "<div>\n",
       "<style scoped>\n",
       "    .dataframe tbody tr th:only-of-type {\n",
       "        vertical-align: middle;\n",
       "    }\n",
       "\n",
       "    .dataframe tbody tr th {\n",
       "        vertical-align: top;\n",
       "    }\n",
       "\n",
       "    .dataframe thead th {\n",
       "        text-align: right;\n",
       "    }\n",
       "</style>\n",
       "<table border=\"1\" class=\"dataframe\">\n",
       "  <thead>\n",
       "    <tr style=\"text-align: right;\">\n",
       "      <th></th>\n",
       "      <th>email</th>\n",
       "      <th>label</th>\n",
       "    </tr>\n",
       "  </thead>\n",
       "  <tbody>\n",
       "    <tr>\n",
       "      <th>0</th>\n",
       "      <td>date wed NUMBER aug NUMBER NUMBER NUMBER NUMB...</td>\n",
       "      <td>0</td>\n",
       "    </tr>\n",
       "    <tr>\n",
       "      <th>1</th>\n",
       "      <td>martin a posted tassos papadopoulos the greek ...</td>\n",
       "      <td>0</td>\n",
       "    </tr>\n",
       "    <tr>\n",
       "      <th>2</th>\n",
       "      <td>man threatens explosion in moscow thursday aug...</td>\n",
       "      <td>0</td>\n",
       "    </tr>\n",
       "    <tr>\n",
       "      <th>3</th>\n",
       "      <td>klez the virus that won t die already the most...</td>\n",
       "      <td>0</td>\n",
       "    </tr>\n",
       "    <tr>\n",
       "      <th>4</th>\n",
       "      <td>in adding cream to spaghetti carbonara which ...</td>\n",
       "      <td>0</td>\n",
       "    </tr>\n",
       "  </tbody>\n",
       "</table>\n",
       "</div>"
      ],
      "text/plain": [
       "                                               email  label\n",
       "0   date wed NUMBER aug NUMBER NUMBER NUMBER NUMB...      0\n",
       "1  martin a posted tassos papadopoulos the greek ...      0\n",
       "2  man threatens explosion in moscow thursday aug...      0\n",
       "3  klez the virus that won t die already the most...      0\n",
       "4   in adding cream to spaghetti carbonara which ...      0"
      ]
     },
     "execution_count": 3,
     "metadata": {},
     "output_type": "execute_result"
    }
   ],
   "source": [
    "# loading dataset\n",
    "df_data = pd.read_csv('C:\\Lavanya\\MS-Sem4\\Data Mining\\Assig2\\Assig2\\dataset_NB.csv',encoding='latin')\n",
    "df_data.head()"
   ]
  },
  {
   "attachments": {},
   "cell_type": "markdown",
   "metadata": {},
   "source": [
    "## Preprocessing - clean the data using textfeatures package and apply stemming on the same data"
   ]
  },
  {
   "cell_type": "code",
   "execution_count": 4,
   "metadata": {},
   "outputs": [],
   "source": [
    "# Preprocess the text datat\n",
    "# Specifying None to include all words\n",
    "vectorizer = CountVectorizer(stop_words=None) "
   ]
  },
  {
   "cell_type": "code",
   "execution_count": 5,
   "metadata": {},
   "outputs": [
    {
     "name": "stderr",
     "output_type": "stream",
     "text": [
      "c:\\Users\\saala\\AppData\\Local\\Programs\\Python\\Python39\\lib\\site-packages\\textfeatures\\__init__.py:60: FutureWarning: The default value of regex will change from True to False in a future version.\n",
      "  df[name] = df[name].str.replace('http\\S+|www.\\S+', '', case=False)\n",
      "c:\\Users\\saala\\AppData\\Local\\Programs\\Python\\Python39\\lib\\site-packages\\textfeatures\\__init__.py:61: FutureWarning: The default value of regex will change from True to False in a future version.\n",
      "  df[name] = df[name].str.replace('[^\\w\\s]','')\n",
      "c:\\Users\\saala\\AppData\\Local\\Programs\\Python\\Python39\\lib\\site-packages\\textfeatures\\__init__.py:62: FutureWarning: The default value of regex will change from True to False in a future version.\n",
      "  df[name] = df[name].str.replace('\\d+', '')\n"
     ]
    },
    {
     "data": {
      "text/html": [
       "<div>\n",
       "<style scoped>\n",
       "    .dataframe tbody tr th:only-of-type {\n",
       "        vertical-align: middle;\n",
       "    }\n",
       "\n",
       "    .dataframe tbody tr th {\n",
       "        vertical-align: top;\n",
       "    }\n",
       "\n",
       "    .dataframe thead th {\n",
       "        text-align: right;\n",
       "    }\n",
       "</style>\n",
       "<table border=\"1\" class=\"dataframe\">\n",
       "  <thead>\n",
       "    <tr style=\"text-align: right;\">\n",
       "      <th></th>\n",
       "      <th>email</th>\n",
       "      <th>label</th>\n",
       "      <th>new_email</th>\n",
       "    </tr>\n",
       "  </thead>\n",
       "  <tbody>\n",
       "    <tr>\n",
       "      <th>0</th>\n",
       "      <td>date wed NUMBER aug NUMBER NUMBER NUMBER NUMB...</td>\n",
       "      <td>0</td>\n",
       "      <td>date number number number number number number...</td>\n",
       "    </tr>\n",
       "    <tr>\n",
       "      <th>1</th>\n",
       "      <td>martin a posted tassos papadopoulos the greek ...</td>\n",
       "      <td>0</td>\n",
       "      <td>martin post tasso papadopoulo greek sculptor b...</td>\n",
       "    </tr>\n",
       "    <tr>\n",
       "      <th>2</th>\n",
       "      <td>man threatens explosion in moscow thursday aug...</td>\n",
       "      <td>0</td>\n",
       "      <td>threaten explos moscow thursday august number ...</td>\n",
       "    </tr>\n",
       "    <tr>\n",
       "      <th>3</th>\n",
       "      <td>klez the virus that won t die already the most...</td>\n",
       "      <td>0</td>\n",
       "      <td>klez viru alreadi prolif viru ever klez contin...</td>\n",
       "    </tr>\n",
       "    <tr>\n",
       "      <th>4</th>\n",
       "      <td>in adding cream to spaghetti carbonara which ...</td>\n",
       "      <td>0</td>\n",
       "      <td>ad cream spaghetti carbonara effect pasta make...</td>\n",
       "    </tr>\n",
       "    <tr>\n",
       "      <th>...</th>\n",
       "      <td>...</td>\n",
       "      <td>...</td>\n",
       "      <td>...</td>\n",
       "    </tr>\n",
       "    <tr>\n",
       "      <th>2995</th>\n",
       "      <td>abc s good morning america ranks it the NUMBE...</td>\n",
       "      <td>1</td>\n",
       "      <td>good morn america rank number christma season ...</td>\n",
       "    </tr>\n",
       "    <tr>\n",
       "      <th>2996</th>\n",
       "      <td>hyperlink hyperlink hyperlink let mortgage le...</td>\n",
       "      <td>1</td>\n",
       "      <td>hyperlink hyperlink hyperlink mortgag lender c...</td>\n",
       "    </tr>\n",
       "    <tr>\n",
       "      <th>2997</th>\n",
       "      <td>thank you for shopping with us gifts for all ...</td>\n",
       "      <td>1</td>\n",
       "      <td>thank shop gift occas free gift number number ...</td>\n",
       "    </tr>\n",
       "    <tr>\n",
       "      <th>2998</th>\n",
       "      <td>the famous ebay marketing e course learn to s...</td>\n",
       "      <td>1</td>\n",
       "      <td>famou ebay market cours learn sell complet eba...</td>\n",
       "    </tr>\n",
       "    <tr>\n",
       "      <th>2999</th>\n",
       "      <td>hello this is chinese traditional å­ ä»¶ NUM...</td>\n",
       "      <td>1</td>\n",
       "      <td>hello chines tradit numberä oæææçå ånumber fäº...</td>\n",
       "    </tr>\n",
       "  </tbody>\n",
       "</table>\n",
       "<p>2999 rows × 3 columns</p>\n",
       "</div>"
      ],
      "text/plain": [
       "                                                  email  label  \\\n",
       "0      date wed NUMBER aug NUMBER NUMBER NUMBER NUMB...      0   \n",
       "1     martin a posted tassos papadopoulos the greek ...      0   \n",
       "2     man threatens explosion in moscow thursday aug...      0   \n",
       "3     klez the virus that won t die already the most...      0   \n",
       "4      in adding cream to spaghetti carbonara which ...      0   \n",
       "...                                                 ...    ...   \n",
       "2995   abc s good morning america ranks it the NUMBE...      1   \n",
       "2996   hyperlink hyperlink hyperlink let mortgage le...      1   \n",
       "2997   thank you for shopping with us gifts for all ...      1   \n",
       "2998   the famous ebay marketing e course learn to s...      1   \n",
       "2999   hello this is chinese traditional å­ ä»¶ NUM...      1   \n",
       "\n",
       "                                              new_email  \n",
       "0     date number number number number number number...  \n",
       "1     martin post tasso papadopoulo greek sculptor b...  \n",
       "2     threaten explos moscow thursday august number ...  \n",
       "3     klez viru alreadi prolif viru ever klez contin...  \n",
       "4     ad cream spaghetti carbonara effect pasta make...  \n",
       "...                                                 ...  \n",
       "2995  good morn america rank number christma season ...  \n",
       "2996  hyperlink hyperlink hyperlink mortgag lender c...  \n",
       "2997  thank shop gift occas free gift number number ...  \n",
       "2998  famou ebay market cours learn sell complet eba...  \n",
       "2999  hello chines tradit numberä oæææçå ånumber fäº...  \n",
       "\n",
       "[2999 rows x 3 columns]"
      ]
     },
     "execution_count": 5,
     "metadata": {},
     "output_type": "execute_result"
    }
   ],
   "source": [
    "# textfeatures packages helps us to extract basic features from the text data as stopwords, hashtags, numeric which helps us to understand the data\n",
    "df_data = df_data[df_data['email'].notnull()]\n",
    "tf.clean(df_data,\"email\",\"new_email\")\n",
    "\n",
    "# Stemming - removing the inflectional forms of words apperaring in the text\n",
    "from nltk.stem import PorterStemmer\n",
    "stemmer = PorterStemmer()\n",
    "df_data['new_email'] = df_data['new_email'].apply(lambda x: \" \".join([stemmer.stem(word) for word in x.split()]))\n",
    "df_data"
   ]
  },
  {
   "attachments": {},
   "cell_type": "markdown",
   "metadata": {},
   "source": [
    "## Split the dataset into train and test sets with an 80/20 split using train_test_split"
   ]
  },
  {
   "cell_type": "code",
   "execution_count": 6,
   "metadata": {},
   "outputs": [],
   "source": [
    "# Split the data into train and test sets\n",
    "train_data, test_data, train_labels, test_labels = train_test_split(df_data['new_email'], df_data['label'], test_size=0.2, random_state=42)"
   ]
  },
  {
   "attachments": {},
   "cell_type": "markdown",
   "metadata": {},
   "source": [
    "## Tokenize the text and convert in to a bag of Words representation"
   ]
  },
  {
   "cell_type": "code",
   "execution_count": 7,
   "metadata": {},
   "outputs": [],
   "source": [
    "# Tokenize the text and convert it to a bag-of-words representation\n",
    "train_corpus = train_data.astype(str).apply(lambda x: ' '.join(word_tokenize(x.lower())))\n",
    "test_corpus = test_data.apply(lambda x: ' '.join(word_tokenize(x.lower())))\n",
    "# Extract features from the text data using CountVectorizer\n",
    "train_bag_of_words = vectorizer.fit_transform(train_corpus)\n",
    "test_bag_of_words = vectorizer.transform(test_corpus)"
   ]
  },
  {
   "attachments": {},
   "cell_type": "markdown",
   "metadata": {},
   "source": [
    "## Train the Naive Bayes Gaussian classifier on the training set"
   ]
  },
  {
   "cell_type": "code",
   "execution_count": 8,
   "metadata": {},
   "outputs": [
    {
     "data": {
      "text/html": [
       "<style>#sk-container-id-1 {color: black;background-color: white;}#sk-container-id-1 pre{padding: 0;}#sk-container-id-1 div.sk-toggleable {background-color: white;}#sk-container-id-1 label.sk-toggleable__label {cursor: pointer;display: block;width: 100%;margin-bottom: 0;padding: 0.3em;box-sizing: border-box;text-align: center;}#sk-container-id-1 label.sk-toggleable__label-arrow:before {content: \"▸\";float: left;margin-right: 0.25em;color: #696969;}#sk-container-id-1 label.sk-toggleable__label-arrow:hover:before {color: black;}#sk-container-id-1 div.sk-estimator:hover label.sk-toggleable__label-arrow:before {color: black;}#sk-container-id-1 div.sk-toggleable__content {max-height: 0;max-width: 0;overflow: hidden;text-align: left;background-color: #f0f8ff;}#sk-container-id-1 div.sk-toggleable__content pre {margin: 0.2em;color: black;border-radius: 0.25em;background-color: #f0f8ff;}#sk-container-id-1 input.sk-toggleable__control:checked~div.sk-toggleable__content {max-height: 200px;max-width: 100%;overflow: auto;}#sk-container-id-1 input.sk-toggleable__control:checked~label.sk-toggleable__label-arrow:before {content: \"▾\";}#sk-container-id-1 div.sk-estimator input.sk-toggleable__control:checked~label.sk-toggleable__label {background-color: #d4ebff;}#sk-container-id-1 div.sk-label input.sk-toggleable__control:checked~label.sk-toggleable__label {background-color: #d4ebff;}#sk-container-id-1 input.sk-hidden--visually {border: 0;clip: rect(1px 1px 1px 1px);clip: rect(1px, 1px, 1px, 1px);height: 1px;margin: -1px;overflow: hidden;padding: 0;position: absolute;width: 1px;}#sk-container-id-1 div.sk-estimator {font-family: monospace;background-color: #f0f8ff;border: 1px dotted black;border-radius: 0.25em;box-sizing: border-box;margin-bottom: 0.5em;}#sk-container-id-1 div.sk-estimator:hover {background-color: #d4ebff;}#sk-container-id-1 div.sk-parallel-item::after {content: \"\";width: 100%;border-bottom: 1px solid gray;flex-grow: 1;}#sk-container-id-1 div.sk-label:hover label.sk-toggleable__label {background-color: #d4ebff;}#sk-container-id-1 div.sk-serial::before {content: \"\";position: absolute;border-left: 1px solid gray;box-sizing: border-box;top: 0;bottom: 0;left: 50%;z-index: 0;}#sk-container-id-1 div.sk-serial {display: flex;flex-direction: column;align-items: center;background-color: white;padding-right: 0.2em;padding-left: 0.2em;position: relative;}#sk-container-id-1 div.sk-item {position: relative;z-index: 1;}#sk-container-id-1 div.sk-parallel {display: flex;align-items: stretch;justify-content: center;background-color: white;position: relative;}#sk-container-id-1 div.sk-item::before, #sk-container-id-1 div.sk-parallel-item::before {content: \"\";position: absolute;border-left: 1px solid gray;box-sizing: border-box;top: 0;bottom: 0;left: 50%;z-index: -1;}#sk-container-id-1 div.sk-parallel-item {display: flex;flex-direction: column;z-index: 1;position: relative;background-color: white;}#sk-container-id-1 div.sk-parallel-item:first-child::after {align-self: flex-end;width: 50%;}#sk-container-id-1 div.sk-parallel-item:last-child::after {align-self: flex-start;width: 50%;}#sk-container-id-1 div.sk-parallel-item:only-child::after {width: 0;}#sk-container-id-1 div.sk-dashed-wrapped {border: 1px dashed gray;margin: 0 0.4em 0.5em 0.4em;box-sizing: border-box;padding-bottom: 0.4em;background-color: white;}#sk-container-id-1 div.sk-label label {font-family: monospace;font-weight: bold;display: inline-block;line-height: 1.2em;}#sk-container-id-1 div.sk-label-container {text-align: center;}#sk-container-id-1 div.sk-container {/* jupyter's `normalize.less` sets `[hidden] { display: none; }` but bootstrap.min.css set `[hidden] { display: none !important; }` so we also need the `!important` here to be able to override the default hidden behavior on the sphinx rendered scikit-learn.org. See: https://github.com/scikit-learn/scikit-learn/issues/21755 */display: inline-block !important;position: relative;}#sk-container-id-1 div.sk-text-repr-fallback {display: none;}</style><div id=\"sk-container-id-1\" class=\"sk-top-container\"><div class=\"sk-text-repr-fallback\"><pre>GaussianNB()</pre><b>In a Jupyter environment, please rerun this cell to show the HTML representation or trust the notebook. <br />On GitHub, the HTML representation is unable to render, please try loading this page with nbviewer.org.</b></div><div class=\"sk-container\" hidden><div class=\"sk-item\"><div class=\"sk-estimator sk-toggleable\"><input class=\"sk-toggleable__control sk-hidden--visually\" id=\"sk-estimator-id-1\" type=\"checkbox\" checked><label for=\"sk-estimator-id-1\" class=\"sk-toggleable__label sk-toggleable__label-arrow\">GaussianNB</label><div class=\"sk-toggleable__content\"><pre>GaussianNB()</pre></div></div></div></div></div>"
      ],
      "text/plain": [
       "GaussianNB()"
      ]
     },
     "execution_count": 8,
     "metadata": {},
     "output_type": "execute_result"
    }
   ],
   "source": [
    "# In Gaussian, we assume the input fetures follows normal distribution and independent of one another. \n",
    "# Create a Gaussian Classifier\n",
    "classifier = GaussianNB()\n",
    "\n",
    "# model is trained using the training sets\n",
    "classifier.fit(train_bag_of_words.toarray(), train_labels)"
   ]
  },
  {
   "cell_type": "code",
   "execution_count": 9,
   "metadata": {},
   "outputs": [
    {
     "name": "stdout",
     "output_type": "stream",
     "text": [
      "Accuracy: 0.9583333333333334\n",
      "Confusion Matrix:\n",
      " [[489  11]\n",
      " [ 14  86]]\n"
     ]
    }
   ],
   "source": [
    "# Make predictions on the test set and evaluate the model\n",
    "predictions = classifier.predict(test_bag_of_words.toarray())\n",
    "# Calculate the accuracy of the model using accuracy_score\n",
    "accuracy = accuracy_score(test_labels, predictions)\n",
    "# Confusion matrix\n",
    "confusion_mat = confusion_matrix(test_labels, predictions)\n",
    "\n",
    "print('Accuracy:', accuracy)\n",
    "print('Confusion Matrix:\\n', confusion_mat)"
   ]
  },
  {
   "attachments": {},
   "cell_type": "markdown",
   "metadata": {},
   "source": [
    "Gaussian NB accuracy = 95.8%"
   ]
  },
  {
   "cell_type": "code",
   "execution_count": 10,
   "metadata": {},
   "outputs": [
    {
     "data": {
      "text/plain": [
       "<Axes: >"
      ]
     },
     "execution_count": 10,
     "metadata": {},
     "output_type": "execute_result"
    },
    {
     "data": {
      "image/png": "[encoded data removed]",
      "text/plain": [
       "<Figure size 640x480 with 1 Axes>"
      ]
     },
     "metadata": {},
     "output_type": "display_data"
    }
   ],
   "source": [
    "# confusion matrix graphics\n",
    "sns.heatmap(confusion_mat, square=True, annot=True, cmap='RdYlGn', fmt='d', cbar=False)"
   ]
  },
  {
   "attachments": {},
   "cell_type": "markdown",
   "metadata": {},
   "source": [
    "## Approach:\n",
    "1. Loaded the dataset using Pandas Dataframe\n",
    "2. Preprocessing - In this approach, We used textfeatures packages to clean the email data and applied stemming on top it. Later extracted the features from text data using CountVectorizer by tokenizing the text and converted it into bag of word representaiton.\n",
    "3. Splitted the dataset into train and test by 80/20 using train_test_split from sklearn\n",
    "4. Train the Naive Bayes Gaussian classifier on training set, In gaussian we assume the input fetures follows normal distribution and independent of one another.\n",
    "5. Based on this wil be calculating the accuracy and ploting the confusion matrix."
   ]
  },
  {
   "attachments": {},
   "cell_type": "markdown",
   "metadata": {},
   "source": [
    "## Team Contribution:\n",
    "1. Naive Bayes Gaussian Classifier - Lavanya Srinivasan\n",
    "2. Decision Tree - Prem Atul Jethwa \n",
    "3. KNN - Shubham Sharma"
   ]
  },
  {
   "attachments": {},
   "cell_type": "markdown",
   "metadata": {},
   "source": [
    "## References:\n",
    "\n",
    "1. https://www.geeksforgeeks.org/how-to-split-the-dataset-with-scikit-learns-train_test_split-function/\n",
    "2. https://www.pluralsight.com/guides/building-features-from-text-data\n",
    "3. https://scikit-learn.org/stable/modules/generated/sklearn.naive_bayes.GaussianNB.html"
   ]
  }
 ],
 "metadata": {
  "kernelspec": {
   "display_name": "Python 3 (ipykernel)",
   "language": "python",
   "name": "python3"
  },
  "language_info": {
   "codemirror_mode": {
    "name": "ipython",
    "version": 3
   },
   "file_extension": ".py",
   "mimetype": "text/x-python",
   "name": "python",
   "nbconvert_exporter": "python",
   "pygments_lexer": "ipython3",
   "version": "3.9.13"
  },
  "vscode": {
   "interpreter": {
    "hash": "3405992a48275e07086f2eda395b3e07105689753999f083f9af1c7b0bb06650"
   }
  }
 },
 "nbformat": 4,
 "nbformat_minor": 2
}
